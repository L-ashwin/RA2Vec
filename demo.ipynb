{
 "cells": [
  {
   "cell_type": "code",
   "execution_count": 1,
   "metadata": {},
   "outputs": [],
   "source": [
    "import os\n",
    "import numpy as np\n",
    "import pandas as pd"
   ]
  },
  {
   "cell_type": "markdown",
   "metadata": {},
   "source": [
    "# Load Dataset"
   ]
  },
  {
   "cell_type": "code",
   "execution_count": 2,
   "metadata": {},
   "outputs": [
    {
     "data": {
      "text/html": [
       "<div>\n",
       "<style scoped>\n",
       "    .dataframe tbody tr th:only-of-type {\n",
       "        vertical-align: middle;\n",
       "    }\n",
       "\n",
       "    .dataframe tbody tr th {\n",
       "        vertical-align: top;\n",
       "    }\n",
       "\n",
       "    .dataframe thead th {\n",
       "        text-align: right;\n",
       "    }\n",
       "</style>\n",
       "<table border=\"1\" class=\"dataframe\">\n",
       "  <thead>\n",
       "    <tr style=\"text-align: right;\">\n",
       "      <th></th>\n",
       "      <th>AVP ID</th>\n",
       "      <th>Sequence</th>\n",
       "      <th>Length</th>\n",
       "      <th>Virus</th>\n",
       "      <th>PubMed/Patent_ID</th>\n",
       "      <th>Label</th>\n",
       "      <th>is_Train</th>\n",
       "    </tr>\n",
       "  </thead>\n",
       "  <tbody>\n",
       "    <tr>\n",
       "      <th>0</th>\n",
       "      <td>AVP_0609</td>\n",
       "      <td>DLGPPISLERLDVGTNLGNAIAKLEAKELLESSD</td>\n",
       "      <td>15</td>\n",
       "      <td>MV</td>\n",
       "      <td>20347875</td>\n",
       "      <td>1</td>\n",
       "      <td>True</td>\n",
       "    </tr>\n",
       "    <tr>\n",
       "      <th>1</th>\n",
       "      <td>AVP_0619</td>\n",
       "      <td>HRIDLGPPISLERLDVGTNLGNAIAKLEAKELLE</td>\n",
       "      <td>15</td>\n",
       "      <td>MV</td>\n",
       "      <td>20347875</td>\n",
       "      <td>1</td>\n",
       "      <td>True</td>\n",
       "    </tr>\n",
       "  </tbody>\n",
       "</table>\n",
       "</div>"
      ],
      "text/plain": [
       "     AVP ID                            Sequence  Length Virus  \\\n",
       "0  AVP_0609  DLGPPISLERLDVGTNLGNAIAKLEAKELLESSD      15    MV   \n",
       "1  AVP_0619  HRIDLGPPISLERLDVGTNLGNAIAKLEAKELLE      15    MV   \n",
       "\n",
       "  PubMed/Patent_ID  Label  is_Train  \n",
       "0         20347875      1      True  \n",
       "1         20347875      1      True  "
      ]
     },
     "execution_count": 2,
     "metadata": {},
     "output_type": "execute_result"
    }
   ],
   "source": [
    "dset = pd.read_csv('./datasets/antiviral.csv')\n",
    "dset = dset.dropna()\n",
    "dset.head(2)"
   ]
  },
  {
   "cell_type": "markdown",
   "metadata": {},
   "source": [
    "# Load seq2vec Models"
   ]
  },
  {
   "cell_type": "code",
   "execution_count": 3,
   "metadata": {},
   "outputs": [],
   "source": [
    "from src.seq2features import Transformer, GetModels\n",
    "from src.runBuilder import RunBuilder"
   ]
  },
  {
   "cell_type": "code",
   "execution_count": 4,
   "metadata": {},
   "outputs": [],
   "source": [
    "param = {\n",
    "    'alphabet' : ['prot_vec', 'hydro', 'conf_simil'],\n",
    "    'kGram'    : [3],\n",
    "    'vecSize'  : [100],\n",
    "    'window'   : [5]\n",
    "}"
   ]
  },
  {
   "cell_type": "code",
   "execution_count": 5,
   "metadata": {},
   "outputs": [
    {
     "data": {
      "text/plain": [
       "[<src.seq2features.W2V_Model at 0x7f779c866a00>,\n",
       " <src.seq2features.W2V_Model at 0x7f779c68aca0>,\n",
       " <src.seq2features.W2V_Model at 0x7f779c69d310>]"
      ]
     },
     "execution_count": 5,
     "metadata": {},
     "output_type": "execute_result"
    }
   ],
   "source": [
    "seq2vec_models = GetModels.from_param_dict('./model-creator/models/', param)\n",
    "seq2vec_models"
   ]
  },
  {
   "cell_type": "code",
   "execution_count": 6,
   "metadata": {},
   "outputs": [
    {
     "data": {
      "text/html": [
       "<div>\n",
       "<style scoped>\n",
       "    .dataframe tbody tr th:only-of-type {\n",
       "        vertical-align: middle;\n",
       "    }\n",
       "\n",
       "    .dataframe tbody tr th {\n",
       "        vertical-align: top;\n",
       "    }\n",
       "\n",
       "    .dataframe thead th {\n",
       "        text-align: right;\n",
       "    }\n",
       "</style>\n",
       "<table border=\"1\" class=\"dataframe\">\n",
       "  <thead>\n",
       "    <tr style=\"text-align: right;\">\n",
       "      <th></th>\n",
       "      <th>Model</th>\n",
       "      <th>kGram</th>\n",
       "      <th>window</th>\n",
       "      <th>vecSize</th>\n",
       "    </tr>\n",
       "  </thead>\n",
       "  <tbody>\n",
       "    <tr>\n",
       "      <th>0</th>\n",
       "      <td>prot_vec</td>\n",
       "      <td>3</td>\n",
       "      <td>5</td>\n",
       "      <td>100</td>\n",
       "    </tr>\n",
       "    <tr>\n",
       "      <th>1</th>\n",
       "      <td>hydro</td>\n",
       "      <td>3</td>\n",
       "      <td>5</td>\n",
       "      <td>100</td>\n",
       "    </tr>\n",
       "    <tr>\n",
       "      <th>2</th>\n",
       "      <td>conf_simil</td>\n",
       "      <td>3</td>\n",
       "      <td>5</td>\n",
       "      <td>100</td>\n",
       "    </tr>\n",
       "  </tbody>\n",
       "</table>\n",
       "</div>"
      ],
      "text/plain": [
       "        Model  kGram  window  vecSize\n",
       "0    prot_vec      3       5      100\n",
       "1       hydro      3       5      100\n",
       "2  conf_simil      3       5      100"
      ]
     },
     "execution_count": 6,
     "metadata": {},
     "output_type": "execute_result"
    }
   ],
   "source": [
    "pd.DataFrame([each.__dict__ for each in seq2vec_models]).drop('location', axis=1)"
   ]
  },
  {
   "cell_type": "markdown",
   "metadata": {},
   "source": [
    "# Transform the dataset"
   ]
  },
  {
   "cell_type": "markdown",
   "metadata": {},
   "source": [
    "## ProtVec Model"
   ]
  },
  {
   "cell_type": "code",
   "execution_count": 7,
   "metadata": {},
   "outputs": [
    {
     "name": "stdout",
     "output_type": "stream",
     "text": [
      "Done! Features are saved as model attributes; xData and yData\n"
     ]
    }
   ],
   "source": [
    "transformer = Transformer()\n",
    "transformer.set_modelList(ProtVec=seq2vec_models[0])\n",
    "transformer.set_data(data=dset.Sequence, target=dset.Label)"
   ]
  },
  {
   "cell_type": "code",
   "execution_count": 8,
   "metadata": {},
   "outputs": [
    {
     "data": {
      "text/plain": [
       "(1056, 100)"
      ]
     },
     "execution_count": 8,
     "metadata": {},
     "output_type": "execute_result"
    }
   ],
   "source": [
    "transformer.xData.shape"
   ]
  },
  {
   "cell_type": "code",
   "execution_count": 9,
   "metadata": {},
   "outputs": [
    {
     "data": {
      "text/html": [
       "<div>\n",
       "<style scoped>\n",
       "    .dataframe tbody tr th:only-of-type {\n",
       "        vertical-align: middle;\n",
       "    }\n",
       "\n",
       "    .dataframe tbody tr th {\n",
       "        vertical-align: top;\n",
       "    }\n",
       "\n",
       "    .dataframe thead th {\n",
       "        text-align: right;\n",
       "    }\n",
       "</style>\n",
       "<table border=\"1\" class=\"dataframe\">\n",
       "  <thead>\n",
       "    <tr style=\"text-align: right;\">\n",
       "      <th></th>\n",
       "      <th>0</th>\n",
       "      <th>1</th>\n",
       "      <th>2</th>\n",
       "      <th>3</th>\n",
       "      <th>4</th>\n",
       "      <th>5</th>\n",
       "      <th>6</th>\n",
       "      <th>7</th>\n",
       "      <th>8</th>\n",
       "      <th>9</th>\n",
       "      <th>...</th>\n",
       "      <th>90</th>\n",
       "      <th>91</th>\n",
       "      <th>92</th>\n",
       "      <th>93</th>\n",
       "      <th>94</th>\n",
       "      <th>95</th>\n",
       "      <th>96</th>\n",
       "      <th>97</th>\n",
       "      <th>98</th>\n",
       "      <th>99</th>\n",
       "    </tr>\n",
       "  </thead>\n",
       "  <tbody>\n",
       "    <tr>\n",
       "      <th>0</th>\n",
       "      <td>-0.805205</td>\n",
       "      <td>0.515933</td>\n",
       "      <td>-0.173827</td>\n",
       "      <td>1.232417</td>\n",
       "      <td>-0.178105</td>\n",
       "      <td>2.904041</td>\n",
       "      <td>-5.894862</td>\n",
       "      <td>-0.517172</td>\n",
       "      <td>0.786282</td>\n",
       "      <td>0.249633</td>\n",
       "      <td>...</td>\n",
       "      <td>-3.029598</td>\n",
       "      <td>5.765355</td>\n",
       "      <td>2.388032</td>\n",
       "      <td>0.327205</td>\n",
       "      <td>0.092085</td>\n",
       "      <td>-1.056149</td>\n",
       "      <td>2.624676</td>\n",
       "      <td>-1.318894</td>\n",
       "      <td>-3.062136</td>\n",
       "      <td>-5.975313</td>\n",
       "    </tr>\n",
       "    <tr>\n",
       "      <th>1</th>\n",
       "      <td>-1.015575</td>\n",
       "      <td>0.710593</td>\n",
       "      <td>0.192947</td>\n",
       "      <td>1.522360</td>\n",
       "      <td>0.501692</td>\n",
       "      <td>3.106572</td>\n",
       "      <td>-5.389930</td>\n",
       "      <td>-1.202611</td>\n",
       "      <td>1.012515</td>\n",
       "      <td>-0.034357</td>\n",
       "      <td>...</td>\n",
       "      <td>-3.057328</td>\n",
       "      <td>5.770335</td>\n",
       "      <td>3.088787</td>\n",
       "      <td>-0.084201</td>\n",
       "      <td>-0.565125</td>\n",
       "      <td>-0.584599</td>\n",
       "      <td>1.880929</td>\n",
       "      <td>-1.318765</td>\n",
       "      <td>-2.397743</td>\n",
       "      <td>-6.208384</td>\n",
       "    </tr>\n",
       "  </tbody>\n",
       "</table>\n",
       "<p>2 rows × 100 columns</p>\n",
       "</div>"
      ],
      "text/plain": [
       "         0         1         2         3         4         5         6   \\\n",
       "0 -0.805205  0.515933 -0.173827  1.232417 -0.178105  2.904041 -5.894862   \n",
       "1 -1.015575  0.710593  0.192947  1.522360  0.501692  3.106572 -5.389930   \n",
       "\n",
       "         7         8         9   ...        90        91        92        93  \\\n",
       "0 -0.517172  0.786282  0.249633  ... -3.029598  5.765355  2.388032  0.327205   \n",
       "1 -1.202611  1.012515 -0.034357  ... -3.057328  5.770335  3.088787 -0.084201   \n",
       "\n",
       "         94        95        96        97        98        99  \n",
       "0  0.092085 -1.056149  2.624676 -1.318894 -3.062136 -5.975313  \n",
       "1 -0.565125 -0.584599  1.880929 -1.318765 -2.397743 -6.208384  \n",
       "\n",
       "[2 rows x 100 columns]"
      ]
     },
     "execution_count": 9,
     "metadata": {},
     "output_type": "execute_result"
    }
   ],
   "source": [
    "pd.DataFrame(transformer.xData).head(2)"
   ]
  },
  {
   "cell_type": "markdown",
   "metadata": {},
   "source": [
    "## RA2Vec Model"
   ]
  },
  {
   "cell_type": "code",
   "execution_count": 10,
   "metadata": {},
   "outputs": [
    {
     "name": "stdout",
     "output_type": "stream",
     "text": [
      "Done! Features are saved as model attributes; xData and yData\n"
     ]
    }
   ],
   "source": [
    "transformer = Transformer(transCodes_csv='./model-creator/data/mapping.csv')\n",
    "transformer.set_modelList(RA2V_models=[each for each in seq2vec_models if each.Model != 'prot_vec'])\n",
    "transformer.set_data(data=dset.Sequence, target=dset.Label)"
   ]
  },
  {
   "cell_type": "code",
   "execution_count": 11,
   "metadata": {},
   "outputs": [
    {
     "data": {
      "text/plain": [
       "(1056, 200)"
      ]
     },
     "execution_count": 11,
     "metadata": {},
     "output_type": "execute_result"
    }
   ],
   "source": [
    "transformer.xData.shape"
   ]
  },
  {
   "cell_type": "code",
   "execution_count": 12,
   "metadata": {},
   "outputs": [
    {
     "data": {
      "text/html": [
       "<div>\n",
       "<style scoped>\n",
       "    .dataframe tbody tr th:only-of-type {\n",
       "        vertical-align: middle;\n",
       "    }\n",
       "\n",
       "    .dataframe tbody tr th {\n",
       "        vertical-align: top;\n",
       "    }\n",
       "\n",
       "    .dataframe thead th {\n",
       "        text-align: right;\n",
       "    }\n",
       "</style>\n",
       "<table border=\"1\" class=\"dataframe\">\n",
       "  <thead>\n",
       "    <tr style=\"text-align: right;\">\n",
       "      <th></th>\n",
       "      <th>0</th>\n",
       "      <th>1</th>\n",
       "      <th>2</th>\n",
       "      <th>3</th>\n",
       "      <th>4</th>\n",
       "      <th>5</th>\n",
       "      <th>6</th>\n",
       "      <th>7</th>\n",
       "      <th>8</th>\n",
       "      <th>9</th>\n",
       "      <th>...</th>\n",
       "      <th>190</th>\n",
       "      <th>191</th>\n",
       "      <th>192</th>\n",
       "      <th>193</th>\n",
       "      <th>194</th>\n",
       "      <th>195</th>\n",
       "      <th>196</th>\n",
       "      <th>197</th>\n",
       "      <th>198</th>\n",
       "      <th>199</th>\n",
       "    </tr>\n",
       "  </thead>\n",
       "  <tbody>\n",
       "    <tr>\n",
       "      <th>0</th>\n",
       "      <td>0.546472</td>\n",
       "      <td>-4.321027</td>\n",
       "      <td>0.969843</td>\n",
       "      <td>0.477996</td>\n",
       "      <td>2.366844</td>\n",
       "      <td>4.241345</td>\n",
       "      <td>2.430762</td>\n",
       "      <td>-0.817556</td>\n",
       "      <td>2.277164</td>\n",
       "      <td>-0.802700</td>\n",
       "      <td>...</td>\n",
       "      <td>-3.240247</td>\n",
       "      <td>1.043945</td>\n",
       "      <td>-6.455848</td>\n",
       "      <td>2.997713</td>\n",
       "      <td>1.545122</td>\n",
       "      <td>-1.400428</td>\n",
       "      <td>1.145230</td>\n",
       "      <td>5.118212</td>\n",
       "      <td>-1.005992</td>\n",
       "      <td>-0.614887</td>\n",
       "    </tr>\n",
       "    <tr>\n",
       "      <th>1</th>\n",
       "      <td>0.645005</td>\n",
       "      <td>-4.445821</td>\n",
       "      <td>1.221185</td>\n",
       "      <td>0.481752</td>\n",
       "      <td>2.435462</td>\n",
       "      <td>4.081695</td>\n",
       "      <td>2.465331</td>\n",
       "      <td>-0.605753</td>\n",
       "      <td>2.214545</td>\n",
       "      <td>-0.861191</td>\n",
       "      <td>...</td>\n",
       "      <td>-3.336379</td>\n",
       "      <td>0.977783</td>\n",
       "      <td>-6.444966</td>\n",
       "      <td>3.287784</td>\n",
       "      <td>1.396907</td>\n",
       "      <td>-1.271383</td>\n",
       "      <td>1.205594</td>\n",
       "      <td>4.734825</td>\n",
       "      <td>-1.093482</td>\n",
       "      <td>-1.217669</td>\n",
       "    </tr>\n",
       "  </tbody>\n",
       "</table>\n",
       "<p>2 rows × 200 columns</p>\n",
       "</div>"
      ],
      "text/plain": [
       "        0         1         2         3         4         5         6    \\\n",
       "0  0.546472 -4.321027  0.969843  0.477996  2.366844  4.241345  2.430762   \n",
       "1  0.645005 -4.445821  1.221185  0.481752  2.435462  4.081695  2.465331   \n",
       "\n",
       "        7         8         9    ...       190       191       192       193  \\\n",
       "0 -0.817556  2.277164 -0.802700  ... -3.240247  1.043945 -6.455848  2.997713   \n",
       "1 -0.605753  2.214545 -0.861191  ... -3.336379  0.977783 -6.444966  3.287784   \n",
       "\n",
       "        194       195       196       197       198       199  \n",
       "0  1.545122 -1.400428  1.145230  5.118212 -1.005992 -0.614887  \n",
       "1  1.396907 -1.271383  1.205594  4.734825 -1.093482 -1.217669  \n",
       "\n",
       "[2 rows x 200 columns]"
      ]
     },
     "execution_count": 12,
     "metadata": {},
     "output_type": "execute_result"
    }
   ],
   "source": [
    "pd.DataFrame(transformer.xData).head(2)"
   ]
  },
  {
   "cell_type": "markdown",
   "metadata": {},
   "source": [
    "## RA2Vec along with ProtVec "
   ]
  },
  {
   "cell_type": "code",
   "execution_count": 13,
   "metadata": {},
   "outputs": [
    {
     "name": "stdout",
     "output_type": "stream",
     "text": [
      "Done! Features are saved as model attributes; xData and yData\n"
     ]
    }
   ],
   "source": [
    "transformer = Transformer(transCodes_csv='./model-creator/data/mapping.csv')\n",
    "transformer.set_modelList(\n",
    "    RA2V_models = [each for each in seq2vec_models if each.Model != 'prot_vec'],\n",
    "    ProtVec     = seq2vec_models[0]\n",
    ")\n",
    "transformer.set_data(data=dset.Sequence, target=dset.Label)"
   ]
  },
  {
   "cell_type": "code",
   "execution_count": 14,
   "metadata": {},
   "outputs": [
    {
     "data": {
      "text/plain": [
       "(1056, 300)"
      ]
     },
     "execution_count": 14,
     "metadata": {},
     "output_type": "execute_result"
    }
   ],
   "source": [
    "transformer.xData.shape"
   ]
  },
  {
   "cell_type": "code",
   "execution_count": 15,
   "metadata": {},
   "outputs": [
    {
     "data": {
      "text/html": [
       "<div>\n",
       "<style scoped>\n",
       "    .dataframe tbody tr th:only-of-type {\n",
       "        vertical-align: middle;\n",
       "    }\n",
       "\n",
       "    .dataframe tbody tr th {\n",
       "        vertical-align: top;\n",
       "    }\n",
       "\n",
       "    .dataframe thead th {\n",
       "        text-align: right;\n",
       "    }\n",
       "</style>\n",
       "<table border=\"1\" class=\"dataframe\">\n",
       "  <thead>\n",
       "    <tr style=\"text-align: right;\">\n",
       "      <th></th>\n",
       "      <th>0</th>\n",
       "      <th>1</th>\n",
       "      <th>2</th>\n",
       "      <th>3</th>\n",
       "      <th>4</th>\n",
       "      <th>5</th>\n",
       "      <th>6</th>\n",
       "      <th>7</th>\n",
       "      <th>8</th>\n",
       "      <th>9</th>\n",
       "      <th>...</th>\n",
       "      <th>290</th>\n",
       "      <th>291</th>\n",
       "      <th>292</th>\n",
       "      <th>293</th>\n",
       "      <th>294</th>\n",
       "      <th>295</th>\n",
       "      <th>296</th>\n",
       "      <th>297</th>\n",
       "      <th>298</th>\n",
       "      <th>299</th>\n",
       "    </tr>\n",
       "  </thead>\n",
       "  <tbody>\n",
       "    <tr>\n",
       "      <th>0</th>\n",
       "      <td>0.546472</td>\n",
       "      <td>-4.321027</td>\n",
       "      <td>0.969843</td>\n",
       "      <td>0.477996</td>\n",
       "      <td>2.366844</td>\n",
       "      <td>4.241345</td>\n",
       "      <td>2.430762</td>\n",
       "      <td>-0.817556</td>\n",
       "      <td>2.277164</td>\n",
       "      <td>-0.802700</td>\n",
       "      <td>...</td>\n",
       "      <td>-3.029598</td>\n",
       "      <td>5.765355</td>\n",
       "      <td>2.388032</td>\n",
       "      <td>0.327205</td>\n",
       "      <td>0.092085</td>\n",
       "      <td>-1.056149</td>\n",
       "      <td>2.624676</td>\n",
       "      <td>-1.318894</td>\n",
       "      <td>-3.062136</td>\n",
       "      <td>-5.975313</td>\n",
       "    </tr>\n",
       "    <tr>\n",
       "      <th>1</th>\n",
       "      <td>0.645005</td>\n",
       "      <td>-4.445821</td>\n",
       "      <td>1.221185</td>\n",
       "      <td>0.481752</td>\n",
       "      <td>2.435462</td>\n",
       "      <td>4.081695</td>\n",
       "      <td>2.465331</td>\n",
       "      <td>-0.605753</td>\n",
       "      <td>2.214545</td>\n",
       "      <td>-0.861191</td>\n",
       "      <td>...</td>\n",
       "      <td>-3.057328</td>\n",
       "      <td>5.770335</td>\n",
       "      <td>3.088787</td>\n",
       "      <td>-0.084201</td>\n",
       "      <td>-0.565125</td>\n",
       "      <td>-0.584599</td>\n",
       "      <td>1.880929</td>\n",
       "      <td>-1.318765</td>\n",
       "      <td>-2.397743</td>\n",
       "      <td>-6.208384</td>\n",
       "    </tr>\n",
       "  </tbody>\n",
       "</table>\n",
       "<p>2 rows × 300 columns</p>\n",
       "</div>"
      ],
      "text/plain": [
       "        0         1         2         3         4         5         6    \\\n",
       "0  0.546472 -4.321027  0.969843  0.477996  2.366844  4.241345  2.430762   \n",
       "1  0.645005 -4.445821  1.221185  0.481752  2.435462  4.081695  2.465331   \n",
       "\n",
       "        7         8         9    ...       290       291       292       293  \\\n",
       "0 -0.817556  2.277164 -0.802700  ... -3.029598  5.765355  2.388032  0.327205   \n",
       "1 -0.605753  2.214545 -0.861191  ... -3.057328  5.770335  3.088787 -0.084201   \n",
       "\n",
       "        294       295       296       297       298       299  \n",
       "0  0.092085 -1.056149  2.624676 -1.318894 -3.062136 -5.975313  \n",
       "1 -0.565125 -0.584599  1.880929 -1.318765 -2.397743 -6.208384  \n",
       "\n",
       "[2 rows x 300 columns]"
      ]
     },
     "execution_count": 15,
     "metadata": {},
     "output_type": "execute_result"
    }
   ],
   "source": [
    "pd.DataFrame(transformer.xData).head(2)"
   ]
  },
  {
   "cell_type": "code",
   "execution_count": null,
   "metadata": {},
   "outputs": [],
   "source": []
  }
 ],
 "metadata": {
  "kernelspec": {
   "display_name": "protVec",
   "language": "python",
   "name": "protvec"
  },
  "language_info": {
   "codemirror_mode": {
    "name": "ipython",
    "version": 3
   },
   "file_extension": ".py",
   "mimetype": "text/x-python",
   "name": "python",
   "nbconvert_exporter": "python",
   "pygments_lexer": "ipython3",
   "version": "3.9.4"
  }
 },
 "nbformat": 4,
 "nbformat_minor": 4
}
